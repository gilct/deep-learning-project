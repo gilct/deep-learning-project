{
  "cells": [
    {
      "cell_type": "code",
      "execution_count": 1,
      "metadata": {
        "id": "3sJMQ0qHf6AX"
      },
      "outputs": [
        {
          "name": "stderr",
          "output_type": "stream",
          "text": [
            "c:\\ProgramData\\Anaconda3\\lib\\site-packages\\torch\\package\\_directory_reader.py:17: UserWarning: Failed to initialize NumPy: No module named 'numpy.core._multiarray_umath' (Triggered internally at  ..\\torch\\csrc\\utils\\tensor_numpy.cpp:68.)\n",
            "  _dtype_to_storage = {data_type(0).dtype: data_type for data_type in _storages}\n"
          ]
        }
      ],
      "source": [
        "import torch\n",
        "import torchvision\n",
        "import torch.nn as nn\n",
        "import torch.nn.functional as F\n",
        "import matplotlib.pyplot as plt\n",
        "import numpy as np\n",
        "import time\n",
        "\n",
        "from model import * \n"
      ]
    },
    {
      "cell_type": "code",
      "execution_count": 2,
      "metadata": {
        "colab": {
          "base_uri": "https://localhost:8080/"
        },
        "id": "MSrb91s2gC_I",
        "outputId": "243d7b1a-2c0e-46d3-c3cd-132e85004c52"
      },
      "outputs": [
        {
          "name": "stdout",
          "output_type": "stream",
          "text": [
            "cuda\n"
          ]
        }
      ],
      "source": [
        "device = torch.device('cuda' if torch.cuda.is_available() else 'cpu')\n",
        "print(device)\n",
        "\n",
        "noisy_imgs_1 , noisy_imgs_2 = torch.load(\"../data/train_data.pkl\", map_location = device)\n",
        "\n",
        "noisy_imgs_test, clean_images = torch.load(\"../data/val_data.pkl\", map_location = device)\n"
      ]
    },
    {
      "cell_type": "code",
      "execution_count": 5,
      "metadata": {},
      "outputs": [
        {
          "name": "stdout",
          "output_type": "stream",
          "text": [
            "Training\n",
            "Training epoch 1/20...\n",
            "Training epoch 2/20...\n",
            "Training epoch 3/20...\n",
            "Training epoch 4/20...\n",
            "Training epoch 5/20...\n",
            "Training epoch 6/20...\n",
            "Training epoch 7/20...\n",
            "Training epoch 8/20...\n",
            "Training epoch 9/20...\n",
            "Training epoch 10/20...\n",
            "Training epoch 11/20...\n",
            "Training epoch 12/20...\n",
            "Training epoch 13/20...\n",
            "Training epoch 14/20...\n",
            "Training epoch 15/20...\n",
            "Training epoch 16/20...\n",
            "Training epoch 17/20...\n",
            "Training epoch 18/20...\n",
            "Training epoch 19/20...\n",
            "Training epoch 20/20...\n"
          ]
        }
      ],
      "source": [
        "model = Model()\n",
        "model.train(noisy_imgs_1, noisy_imgs_2, 20)"
      ]
    },
    {
      "cell_type": "code",
      "execution_count": 7,
      "metadata": {},
      "outputs": [
        {
          "name": "stdout",
          "output_type": "stream",
          "text": [
            "tensor(24.3012, device='cuda:0', grad_fn=<MulBackward0>)\n"
          ]
        }
      ],
      "source": [
        "def psnr( denoised , ground_truth ) :\n",
        "      # Peak Signal to Noise Ratio : denoised and ground˙truth have range [0 , 1]\n",
        "  mse = torch.mean(( denoised - ground_truth ) ** 2)\n",
        "  return -10 * torch.log10( mse + 10**-8)\n",
        "\n",
        "\n",
        "results = model.predict(noisy_imgs_test) / 255.0\n",
        "\n",
        "print(psnr(results, clean_images.float() / 255.0))"
      ]
    },
    {
      "cell_type": "code",
      "execution_count": null,
      "metadata": {},
      "outputs": [],
      "source": [
        "#didn't test\n",
        "torch.save(model.model.state_dict(), './bestmodel.pth')"
      ]
    }
  ],
  "metadata": {
    "accelerator": "GPU",
    "colab": {
      "collapsed_sections": [],
      "name": "deep_learning_1.ipynb",
      "provenance": []
    },
    "interpreter": {
      "hash": "ad2bdc8ecc057115af97d19610ffacc2b4e99fae6737bb82f5d7fb13d2f2c186"
    },
    "kernelspec": {
      "display_name": "Python 3.9.7 ('base')",
      "language": "python",
      "name": "python3"
    },
    "language_info": {
      "codemirror_mode": {
        "name": "ipython",
        "version": 3
      },
      "file_extension": ".py",
      "mimetype": "text/x-python",
      "name": "python",
      "nbconvert_exporter": "python",
      "pygments_lexer": "ipython3",
      "version": "3.6.4"
    }
  },
  "nbformat": 4,
  "nbformat_minor": 0
}
